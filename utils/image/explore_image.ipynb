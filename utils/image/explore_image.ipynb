{
 "cells": [
  {
   "cell_type": "code",
   "execution_count": 35,
   "metadata": {
    "collapsed": true
   },
   "outputs": [],
   "source": [
    "import tensorflow as tf\n",
    "import numpy as np\n",
    "import os\n",
    "from sklearn.utils import shuffle\n",
    "import matplotlib.pyplot as plt\n",
    "%matplotlib inline"
   ]
  },
  {
   "cell_type": "code",
   "execution_count": 2,
   "metadata": {},
   "outputs": [
    {
     "name": "stdout",
     "output_type": "stream",
     "text": [
      "\u001b[1m\u001b[34mAutoDL_ingestion_program\u001b[m\u001b[m/      README.md\r\n",
      "\u001b[1m\u001b[34mAutoDL_sample_code_submission\u001b[m\u001b[m/ metadata\r\n",
      "\u001b[1m\u001b[34mAutoDL_sample_data\u001b[m\u001b[m/            run_local_test.py\r\n",
      "\u001b[1m\u001b[34mAutoDL_scoring_program\u001b[m\u001b[m/\r\n"
     ]
    }
   ],
   "source": [
    "%ls ../../../autodl/codalab_competition_bundle/AutoDL_starting_kit/"
   ]
  },
  {
   "cell_type": "code",
   "execution_count": 252,
   "metadata": {
    "collapsed": true
   },
   "outputs": [],
   "source": [
    "input_dir = '../../formatted_datasets/'\n",
    "dataset_name = 'munster'\n",
    "train_dir = os.path.join(input_dir, '{}/{}.data/train'.format(dataset_name, dataset_name))\n",
    "test_dir = os.path.join(input_dir, '{}/{}.data/test'.format(dataset_name, dataset_name))\n",
    "starting_kit_dir = '../../../autodl/codalab_competition_bundle/AutoDL_starting_kit/'\n",
    "ingestion_dir = os.path.join(starting_kit_dir, 'AutoDL_ingestion_program/')"
   ]
  },
  {
   "cell_type": "code",
   "execution_count": 343,
   "metadata": {},
   "outputs": [],
   "source": [
    "import sys\n",
    "sys.path.append(ingestion_dir)\n",
    "from dataset import AutoDLDataset"
   ]
  },
  {
   "cell_type": "code",
   "execution_count": 254,
   "metadata": {},
   "outputs": [
    {
     "name": "stdout",
     "output_type": "stream",
     "text": [
      "INFO:tensorflow:Number of training files: 1.\n"
     ]
    },
    {
     "data": {
      "text/plain": [
       "Text(0.5,1,'Label: 5')"
      ]
     },
     "execution_count": 254,
     "metadata": {},
     "output_type": "execute_result"
    },
    {
     "data": {
      "image/png": "[encoded data removed]",
      "text/plain": [
       "<matplotlib.figure.Figure at 0x12f37e7b8>"
      ]
     },
     "metadata": {},
     "output_type": "display_data"
    }
   ],
   "source": [
    "dataset_dir = train_dir\n",
    "autodl_dataset = AutoDLDataset(dataset_dir)\n",
    "dataset = autodl_dataset.get_dataset()\n",
    "iterator = dataset.make_one_shot_iterator()\n",
    "next_element = iterator.get_next()\n",
    "with tf.Session() as sess:\n",
    "  features, labels = sess.run(next_element)\n",
    "image = features.reshape(28,28)\n",
    "label = np.argmax(labels)\n",
    "plt.imshow(image, cmap='gray')\n",
    "plt.title('Label: {}'.format(label))"
   ]
  },
  {
   "cell_type": "code",
   "execution_count": 266,
   "metadata": {},
   "outputs": [
    {
     "name": "stdout",
     "output_type": "stream",
     "text": [
      "INFO:tensorflow:Number of training files: 1.\n",
      "Looking at example of index: 379\n"
     ]
    },
    {
     "data": {
      "text/plain": [
       "Text(0.5,1,'Label: 4')"
      ]
     },
     "execution_count": 266,
     "metadata": {},
     "output_type": "execute_result"
    },
    {
     "data": {
      "image/png": "[encoded data removed]",
      "text/plain": [
       "<matplotlib.figure.Figure at 0x1342c8710>"
      ]
     },
     "metadata": {},
     "output_type": "display_data"
    }
   ],
   "source": [
    "dataset_dir = test_dir\n",
    "autodl_dataset = AutoDLDataset(dataset_dir, repeat=False)\n",
    "dataset = autodl_dataset.get_dataset()\n",
    "num_examples_test = autodl_dataset.get_metadata().size()\n",
    "index = np.random.randint(0, num_examples_test)\n",
    "index = np.random.randint(0, 1000)\n",
    "print('Looking at example of index: {}'.format(index))\n",
    "iterator = dataset.make_one_shot_iterator()\n",
    "next_element = iterator.get_next()\n",
    "with tf.Session() as sess:\n",
    "  for i in range(index + 1):\n",
    "    features, _ = sess.run(next_element)\n",
    "solution_dir = os.path.join(input_dir, 'munster/munster.solution')\n",
    "labels = np.loadtxt(solution_dir)\n",
    "image = features.reshape(28,28)\n",
    "label = np.argmax(labels, axis=1)[index]\n",
    "plt.imshow(image, cmap='gray')\n",
    "plt.title('Label: {}'.format(label))"
   ]
  },
  {
   "cell_type": "code",
   "execution_count": null,
   "metadata": {
    "collapsed": true
   },
   "outputs": [],
   "source": []
  },
  {
   "cell_type": "code",
   "execution_count": 224,
   "metadata": {},
   "outputs": [
    {
     "data": {
      "text/plain": [
       "50000"
      ]
     },
     "execution_count": 224,
     "metadata": {},
     "output_type": "execute_result"
    }
   ],
   "source": [
    "len(fine_labels)"
   ]
  },
  {
   "cell_type": "code",
   "execution_count": 236,
   "metadata": {},
   "outputs": [
    {
     "data": {
      "text/plain": [
       "29"
      ]
     },
     "execution_count": 236,
     "metadata": {},
     "output_type": "execute_result"
    }
   ],
   "source": [
    "fine_labels[index]"
   ]
  },
  {
   "cell_type": "code",
   "execution_count": 359,
   "metadata": {},
   "outputs": [
    {
     "name": "stdout",
     "output_type": "stream",
     "text": [
      "INFO:tensorflow:Number of training files: 1.\n",
      "Looking at example of index: 577\n",
      "11 38\n",
      "[11 58]\n"
     ]
    },
    {
     "data": {
      "text/plain": [
       "Text(0.5,1,'Label: large_omnivores_and_herbivores - kangaroo')"
      ]
     },
     "execution_count": 359,
     "metadata": {},
     "output_type": "execute_result"
    },
    {
     "data": {
      "image/png": "[encoded data removed]",
      "text/plain": [
       "<matplotlib.figure.Figure at 0x12b974eb8>"
      ]
     },
     "metadata": {},
     "output_type": "display_data"
    }
   ],
   "source": [
    "dataset_name = 'ciao'\n",
    "train_dir = os.path.join(input_dir, '{}/{}.data/train'.format(dataset_name, dataset_name))\n",
    "test_dir = os.path.join(input_dir, '{}/{}.data/test'.format(dataset_name, dataset_name))\n",
    "dataset_dir = test_dir\n",
    "data_dict = test_dict\n",
    "coarse_labels = data_dict[b'coarse_labels']\n",
    "fine_labels = data_dict[b'fine_labels']\n",
    "autodl_dataset = AutoDLDataset(dataset_dir, repeat=False)\n",
    "dataset = autodl_dataset.get_dataset()\n",
    "num_examples_test = autodl_dataset.get_metadata().size()\n",
    "# index = np.random.randint(0, num_examples_test)\n",
    "index = np.random.randint(0, 1000)\n",
    "# index = 0\n",
    "print('Looking at example of index: {}'.format(index))\n",
    "coarse_label = coarse_labels[index]\n",
    "fine_label = fine_labels[index]\n",
    "coarse_label_name = coarse_label_names[coarse_label]\n",
    "fine_label_name = fine_label_names[fine_label]\n",
    "iterator = dataset.make_one_shot_iterator()\n",
    "next_element = iterator.get_next()\n",
    "with tf.Session() as sess:\n",
    "  for i in range(index + 1):\n",
    "    features, _ = sess.run(next_element)\n",
    "image = features.reshape(32,32)\n",
    "solution_dir = os.path.join(input_dir, '{}/{}.solution'.format(dataset_name, dataset_name))\n",
    "labels = np.loadtxt(solution_dir)\n",
    "label = np.where(labels[index] > 0)[0]\n",
    "print(coarse_label, fine_label)\n",
    "print(label)\n",
    "plt.figure(figsize=(1.5,1.5))\n",
    "plt.imshow(image, cmap='gray')\n",
    "plt.title('Label: {} - {}'.format(coarse_label_name, fine_label_name))"
   ]
  },
  {
   "cell_type": "code",
   "execution_count": 81,
   "metadata": {
    "collapsed": true
   },
   "outputs": [],
   "source": [
    "haha = {'yo':1, 'juhua':2}"
   ]
  },
  {
   "cell_type": "code",
   "execution_count": 83,
   "metadata": {},
   "outputs": [
    {
     "data": {
      "text/plain": [
       "\"{'yo': 1, 'juhua': 2}\""
      ]
     },
     "execution_count": 83,
     "metadata": {},
     "output_type": "execute_result"
    }
   ],
   "source": [
    "str(haha)"
   ]
  },
  {
   "cell_type": "code",
   "execution_count": 92,
   "metadata": {
    "collapsed": true
   },
   "outputs": [],
   "source": [
    "from tensorflow.contrib.learn.python.learn.datasets import mnist"
   ]
  },
  {
   "cell_type": "code",
   "execution_count": 93,
   "metadata": {
    "scrolled": true
   },
   "outputs": [
    {
     "name": "stdout",
     "output_type": "stream",
     "text": [
      "WARNING:tensorflow:From <ipython-input-93-f63d704db7b6>:1: read_data_sets (from tensorflow.contrib.learn.python.learn.datasets.mnist) is deprecated and will be removed in a future version.\n",
      "Instructions for updating:\n",
      "Please use alternatives such as official/mnist/dataset.py from tensorflow/models.\n",
      "WARNING:tensorflow:From /Users/evariste/anaconda3/lib/python3.6/site-packages/tensorflow/contrib/learn/python/learn/datasets/mnist.py:260: maybe_download (from tensorflow.contrib.learn.python.learn.datasets.base) is deprecated and will be removed in a future version.\n",
      "Instructions for updating:\n",
      "Please write your own downloading logic.\n",
      "WARNING:tensorflow:From /Users/evariste/anaconda3/lib/python3.6/site-packages/tensorflow/contrib/learn/python/learn/datasets/base.py:252: _internal_retry.<locals>.wrap.<locals>.wrapped_fn (from tensorflow.contrib.learn.python.learn.datasets.base) is deprecated and will be removed in a future version.\n",
      "Instructions for updating:\n",
      "Please use urllib or similar directly.\n",
      "Successfully downloaded train-images-idx3-ubyte.gz 9912422 bytes.\n",
      "WARNING:tensorflow:From /Users/evariste/anaconda3/lib/python3.6/site-packages/tensorflow/contrib/learn/python/learn/datasets/mnist.py:262: extract_images (from tensorflow.contrib.learn.python.learn.datasets.mnist) is deprecated and will be removed in a future version.\n",
      "Instructions for updating:\n",
      "Please use tf.data to implement this functionality.\n",
      "Extracting /tmp/data/train-images-idx3-ubyte.gz\n",
      "Successfully downloaded train-labels-idx1-ubyte.gz 28881 bytes.\n",
      "WARNING:tensorflow:From /Users/evariste/anaconda3/lib/python3.6/site-packages/tensorflow/contrib/learn/python/learn/datasets/mnist.py:267: extract_labels (from tensorflow.contrib.learn.python.learn.datasets.mnist) is deprecated and will be removed in a future version.\n",
      "Instructions for updating:\n",
      "Please use tf.data to implement this functionality.\n",
      "Extracting /tmp/data/train-labels-idx1-ubyte.gz\n",
      "Successfully downloaded t10k-images-idx3-ubyte.gz 1648877 bytes.\n",
      "Extracting /tmp/data/t10k-images-idx3-ubyte.gz\n",
      "Successfully downloaded t10k-labels-idx1-ubyte.gz 4542 bytes.\n",
      "Extracting /tmp/data/t10k-labels-idx1-ubyte.gz\n",
      "WARNING:tensorflow:From /Users/evariste/anaconda3/lib/python3.6/site-packages/tensorflow/contrib/learn/python/learn/datasets/mnist.py:290: DataSet.__init__ (from tensorflow.contrib.learn.python.learn.datasets.mnist) is deprecated and will be removed in a future version.\n",
      "Instructions for updating:\n",
      "Please use alternatives such as official/mnist/dataset.py from tensorflow/models.\n"
     ]
    }
   ],
   "source": [
    "datasets = mnist.read_data_sets(train_dir='/tmp/data/', validation_size=0)"
   ]
  },
  {
   "cell_type": "code",
   "execution_count": 94,
   "metadata": {},
   "outputs": [
    {
     "name": "stdout",
     "output_type": "stream",
     "text": [
      "Extracting /tmp/data/train-images-idx3-ubyte.gz\n",
      "Extracting /tmp/data/train-labels-idx1-ubyte.gz\n",
      "Extracting /tmp/data/t10k-images-idx3-ubyte.gz\n",
      "Extracting /tmp/data/t10k-labels-idx1-ubyte.gz\n",
      "Training data size: (60000, 784)\n",
      "Validation data size: (0, 784)\n",
      "Test data size: (10000, 784)\n"
     ]
    }
   ],
   "source": [
    "datasets = mnist.read_data_sets(train_dir='/tmp/data/', validation_size=0)\n",
    "print(\"Training data size:\", datasets.train.images.shape)\n",
    "print(\"Validation data size:\", datasets.validation.images.shape)\n",
    "print(\"Test data size:\", datasets.test.images.shape)\n",
    "\n",
    "tf.gfile.MkDir(\"mnist/\")\n",
    "\n",
    "input_sequence = datasets.train.images\n",
    "output_sequence = datasets.train.labels"
   ]
  },
  {
   "cell_type": "code",
   "execution_count": 97,
   "metadata": {},
   "outputs": [
    {
     "data": {
      "text/plain": [
       "(60000, 784)"
      ]
     },
     "execution_count": 97,
     "metadata": {},
     "output_type": "execute_result"
    }
   ],
   "source": [
    "input_sequence.shape"
   ]
  },
  {
   "cell_type": "code",
   "execution_count": 99,
   "metadata": {},
   "outputs": [
    {
     "data": {
      "text/plain": [
       "array([5, 0, 4, ..., 5, 6, 8], dtype=uint8)"
      ]
     },
     "execution_count": 99,
     "metadata": {},
     "output_type": "execute_result"
    }
   ],
   "source": [
    "output_sequence"
   ]
  },
  {
   "cell_type": "code",
   "execution_count": 100,
   "metadata": {
    "collapsed": true
   },
   "outputs": [],
   "source": [
    "haha = zip(input_sequence, output_sequence)"
   ]
  },
  {
   "cell_type": "code",
   "execution_count": 101,
   "metadata": {},
   "outputs": [
    {
     "name": "stdout",
     "output_type": "stream",
     "text": [
      "(array([0.        , 0.        , 0.        , 0.        , 0.        ,\n",
      "       0.        , 0.        , 0.        , 0.        , 0.        ,\n",
      "       0.        , 0.        , 0.        , 0.        , 0.        ,\n",
      "       0.        , 0.        , 0.        , 0.        , 0.        ,\n",
      "       0.        , 0.        , 0.        , 0.        , 0.        ,\n",
      "       0.        , 0.        , 0.        , 0.        , 0.        ,\n",
      "       0.        , 0.        , 0.        , 0.        , 0.        ,\n",
      "       0.        , 0.        , 0.        , 0.        , 0.        ,\n",
      "       0.        , 0.        , 0.        , 0.        , 0.        ,\n",
      "       0.        , 0.        , 0.        , 0.        , 0.        ,\n",
      "       0.        , 0.        , 0.        , 0.        , 0.        ,\n",
      "       0.        , 0.        , 0.        , 0.        , 0.        ,\n",
      "       0.        , 0.        , 0.        , 0.        , 0.        ,\n",
      "       0.        , 0.        , 0.        , 0.        , 0.        ,\n",
      "       0.        , 0.        , 0.        , 0.        , 0.        ,\n",
      "       0.        , 0.        , 0.        , 0.        , 0.        ,\n",
      "       0.        , 0.        , 0.        , 0.        , 0.        ,\n",
      "       0.        , 0.        , 0.        , 0.        , 0.        ,\n",
      "       0.        , 0.        , 0.        , 0.        , 0.        ,\n",
      "       0.        , 0.        , 0.        , 0.        , 0.        ,\n",
      "       0.        , 0.        , 0.        , 0.        , 0.        ,\n",
      "       0.        , 0.        , 0.        , 0.        , 0.        ,\n",
      "       0.        , 0.        , 0.        , 0.        , 0.        ,\n",
      "       0.        , 0.        , 0.        , 0.        , 0.        ,\n",
      "       0.        , 0.        , 0.        , 0.        , 0.        ,\n",
      "       0.        , 0.        , 0.        , 0.        , 0.        ,\n",
      "       0.        , 0.        , 0.        , 0.        , 0.        ,\n",
      "       0.        , 0.        , 0.        , 0.        , 0.        ,\n",
      "       0.        , 0.        , 0.        , 0.        , 0.        ,\n",
      "       0.        , 0.        , 0.        , 0.        , 0.        ,\n",
      "       0.        , 0.        , 0.01176471, 0.07058824, 0.07058824,\n",
      "       0.07058824, 0.49411768, 0.53333336, 0.6862745 , 0.10196079,\n",
      "       0.6509804 , 1.        , 0.9686275 , 0.49803925, 0.        ,\n",
      "       0.        , 0.        , 0.        , 0.        , 0.        ,\n",
      "       0.        , 0.        , 0.        , 0.        , 0.        ,\n",
      "       0.        , 0.11764707, 0.14117648, 0.36862746, 0.6039216 ,\n",
      "       0.6666667 , 0.9921569 , 0.9921569 , 0.9921569 , 0.9921569 ,\n",
      "       0.9921569 , 0.882353  , 0.6745098 , 0.9921569 , 0.9490197 ,\n",
      "       0.76470596, 0.2509804 , 0.        , 0.        , 0.        ,\n",
      "       0.        , 0.        , 0.        , 0.        , 0.        ,\n",
      "       0.        , 0.        , 0.        , 0.19215688, 0.9333334 ,\n",
      "       0.9921569 , 0.9921569 , 0.9921569 , 0.9921569 , 0.9921569 ,\n",
      "       0.9921569 , 0.9921569 , 0.9921569 , 0.9843138 , 0.3647059 ,\n",
      "       0.32156864, 0.32156864, 0.21960786, 0.15294118, 0.        ,\n",
      "       0.        , 0.        , 0.        , 0.        , 0.        ,\n",
      "       0.        , 0.        , 0.        , 0.        , 0.        ,\n",
      "       0.        , 0.07058824, 0.8588236 , 0.9921569 , 0.9921569 ,\n",
      "       0.9921569 , 0.9921569 , 0.9921569 , 0.77647066, 0.7137255 ,\n",
      "       0.9686275 , 0.9450981 , 0.        , 0.        , 0.        ,\n",
      "       0.        , 0.        , 0.        , 0.        , 0.        ,\n",
      "       0.        , 0.        , 0.        , 0.        , 0.        ,\n",
      "       0.        , 0.        , 0.        , 0.        , 0.        ,\n",
      "       0.3137255 , 0.6117647 , 0.41960788, 0.9921569 , 0.9921569 ,\n",
      "       0.80392164, 0.04313726, 0.        , 0.16862746, 0.6039216 ,\n",
      "       0.        , 0.        , 0.        , 0.        , 0.        ,\n",
      "       0.        , 0.        , 0.        , 0.        , 0.        ,\n",
      "       0.        , 0.        , 0.        , 0.        , 0.        ,\n",
      "       0.        , 0.        , 0.        , 0.        , 0.05490196,\n",
      "       0.00392157, 0.6039216 , 0.9921569 , 0.3529412 , 0.        ,\n",
      "       0.        , 0.        , 0.        , 0.        , 0.        ,\n",
      "       0.        , 0.        , 0.        , 0.        , 0.        ,\n",
      "       0.        , 0.        , 0.        , 0.        , 0.        ,\n",
      "       0.        , 0.        , 0.        , 0.        , 0.        ,\n",
      "       0.        , 0.        , 0.        , 0.        , 0.54509807,\n",
      "       0.9921569 , 0.74509805, 0.00784314, 0.        , 0.        ,\n",
      "       0.        , 0.        , 0.        , 0.        , 0.        ,\n",
      "       0.        , 0.        , 0.        , 0.        , 0.        ,\n",
      "       0.        , 0.        , 0.        , 0.        , 0.        ,\n",
      "       0.        , 0.        , 0.        , 0.        , 0.        ,\n",
      "       0.        , 0.        , 0.04313726, 0.74509805, 0.9921569 ,\n",
      "       0.27450982, 0.        , 0.        , 0.        , 0.        ,\n",
      "       0.        , 0.        , 0.        , 0.        , 0.        ,\n",
      "       0.        , 0.        , 0.        , 0.        , 0.        ,\n",
      "       0.        , 0.        , 0.        , 0.        , 0.        ,\n",
      "       0.        , 0.        , 0.        , 0.        , 0.        ,\n",
      "       0.        , 0.13725491, 0.9450981 , 0.882353  , 0.627451  ,\n",
      "       0.42352945, 0.00392157, 0.        , 0.        , 0.        ,\n",
      "       0.        , 0.        , 0.        , 0.        , 0.        ,\n",
      "       0.        , 0.        , 0.        , 0.        , 0.        ,\n",
      "       0.        , 0.        , 0.        , 0.        , 0.        ,\n",
      "       0.        , 0.        , 0.        , 0.        , 0.        ,\n",
      "       0.31764707, 0.94117653, 0.9921569 , 0.9921569 , 0.4666667 ,\n",
      "       0.09803922, 0.        , 0.        , 0.        , 0.        ,\n",
      "       0.        , 0.        , 0.        , 0.        , 0.        ,\n",
      "       0.        , 0.        , 0.        , 0.        , 0.        ,\n",
      "       0.        , 0.        , 0.        , 0.        , 0.        ,\n",
      "       0.        , 0.        , 0.        , 0.        , 0.1764706 ,\n",
      "       0.7294118 , 0.9921569 , 0.9921569 , 0.5882353 , 0.10588236,\n",
      "       0.        , 0.        , 0.        , 0.        , 0.        ,\n",
      "       0.        , 0.        , 0.        , 0.        , 0.        ,\n",
      "       0.        , 0.        , 0.        , 0.        , 0.        ,\n",
      "       0.        , 0.        , 0.        , 0.        , 0.        ,\n",
      "       0.        , 0.        , 0.        , 0.0627451 , 0.3647059 ,\n",
      "       0.98823535, 0.9921569 , 0.73333335, 0.        , 0.        ,\n",
      "       0.        , 0.        , 0.        , 0.        , 0.        ,\n",
      "       0.        , 0.        , 0.        , 0.        , 0.        ,\n",
      "       0.        , 0.        , 0.        , 0.        , 0.        ,\n",
      "       0.        , 0.        , 0.        , 0.        , 0.        ,\n",
      "       0.        , 0.        , 0.        , 0.97647065, 0.9921569 ,\n",
      "       0.97647065, 0.2509804 , 0.        , 0.        , 0.        ,\n",
      "       0.        , 0.        , 0.        , 0.        , 0.        ,\n",
      "       0.        , 0.        , 0.        , 0.        , 0.        ,\n",
      "       0.        , 0.        , 0.        , 0.        , 0.        ,\n",
      "       0.        , 0.        , 0.        , 0.18039216, 0.50980395,\n",
      "       0.7176471 , 0.9921569 , 0.9921569 , 0.8117648 , 0.00784314,\n",
      "       0.        , 0.        , 0.        , 0.        , 0.        ,\n",
      "       0.        , 0.        , 0.        , 0.        , 0.        ,\n",
      "       0.        , 0.        , 0.        , 0.        , 0.        ,\n",
      "       0.        , 0.        , 0.        , 0.        , 0.15294118,\n",
      "       0.5803922 , 0.8980393 , 0.9921569 , 0.9921569 , 0.9921569 ,\n",
      "       0.9803922 , 0.7137255 , 0.        , 0.        , 0.        ,\n",
      "       0.        , 0.        , 0.        , 0.        , 0.        ,\n",
      "       0.        , 0.        , 0.        , 0.        , 0.        ,\n",
      "       0.        , 0.        , 0.        , 0.        , 0.        ,\n",
      "       0.09411766, 0.44705886, 0.86666673, 0.9921569 , 0.9921569 ,\n",
      "       0.9921569 , 0.9921569 , 0.78823537, 0.30588236, 0.        ,\n",
      "       0.        , 0.        , 0.        , 0.        , 0.        ,\n",
      "       0.        , 0.        , 0.        , 0.        , 0.        ,\n",
      "       0.        , 0.        , 0.        , 0.        , 0.        ,\n",
      "       0.        , 0.09019608, 0.25882354, 0.8352942 , 0.9921569 ,\n",
      "       0.9921569 , 0.9921569 , 0.9921569 , 0.77647066, 0.31764707,\n",
      "       0.00784314, 0.        , 0.        , 0.        , 0.        ,\n",
      "       0.        , 0.        , 0.        , 0.        , 0.        ,\n",
      "       0.        , 0.        , 0.        , 0.        , 0.        ,\n",
      "       0.        , 0.        , 0.07058824, 0.67058825, 0.8588236 ,\n",
      "       0.9921569 , 0.9921569 , 0.9921569 , 0.9921569 , 0.76470596,\n",
      "       0.3137255 , 0.03529412, 0.        , 0.        , 0.        ,\n",
      "       0.        , 0.        , 0.        , 0.        , 0.        ,\n",
      "       0.        , 0.        , 0.        , 0.        , 0.        ,\n",
      "       0.        , 0.        , 0.        , 0.21568629, 0.6745098 ,\n",
      "       0.8862746 , 0.9921569 , 0.9921569 , 0.9921569 , 0.9921569 ,\n",
      "       0.9568628 , 0.52156866, 0.04313726, 0.        , 0.        ,\n",
      "       0.        , 0.        , 0.        , 0.        , 0.        ,\n",
      "       0.        , 0.        , 0.        , 0.        , 0.        ,\n",
      "       0.        , 0.        , 0.        , 0.        , 0.        ,\n",
      "       0.        , 0.53333336, 0.9921569 , 0.9921569 , 0.9921569 ,\n",
      "       0.8313726 , 0.5294118 , 0.5176471 , 0.0627451 , 0.        ,\n",
      "       0.        , 0.        , 0.        , 0.        , 0.        ,\n",
      "       0.        , 0.        , 0.        , 0.        , 0.        ,\n",
      "       0.        , 0.        , 0.        , 0.        , 0.        ,\n",
      "       0.        , 0.        , 0.        , 0.        , 0.        ,\n",
      "       0.        , 0.        , 0.        , 0.        , 0.        ,\n",
      "       0.        , 0.        , 0.        , 0.        , 0.        ,\n",
      "       0.        , 0.        , 0.        , 0.        , 0.        ,\n",
      "       0.        , 0.        , 0.        , 0.        , 0.        ,\n",
      "       0.        , 0.        , 0.        , 0.        , 0.        ,\n",
      "       0.        , 0.        , 0.        , 0.        , 0.        ,\n",
      "       0.        , 0.        , 0.        , 0.        , 0.        ,\n",
      "       0.        , 0.        , 0.        , 0.        , 0.        ,\n",
      "       0.        , 0.        , 0.        , 0.        , 0.        ,\n",
      "       0.        , 0.        , 0.        , 0.        , 0.        ,\n",
      "       0.        , 0.        , 0.        , 0.        , 0.        ,\n",
      "       0.        , 0.        , 0.        , 0.        , 0.        ,\n",
      "       0.        , 0.        , 0.        , 0.        , 0.        ,\n",
      "       0.        , 0.        , 0.        , 0.        , 0.        ,\n",
      "       0.        , 0.        , 0.        , 0.        , 0.        ,\n",
      "       0.        , 0.        , 0.        , 0.        ], dtype=float32), 5)\n"
     ]
    }
   ],
   "source": [
    "for x in haha:\n",
    "  print(x)\n",
    "  break"
   ]
  },
  {
   "cell_type": "code",
   "execution_count": 103,
   "metadata": {},
   "outputs": [],
   "source": [
    "haha = input_sequence[0]"
   ]
  },
  {
   "cell_type": "code",
   "execution_count": 106,
   "metadata": {},
   "outputs": [
    {
     "data": {
      "text/plain": [
       "<matplotlib.image.AxesImage at 0x1368d3a90>"
      ]
     },
     "execution_count": 106,
     "metadata": {},
     "output_type": "execute_result"
    },
    {
     "data": {
      "image/png": "[encoded data removed]",
      "text/plain": [
       "<matplotlib.figure.Figure at 0x129ccde80>"
      ]
     },
     "metadata": {},
     "output_type": "display_data"
    }
   ],
   "source": [
    "plt.imshow(haha.reshape(28, 28), cmap='gray')"
   ]
  },
  {
   "cell_type": "code",
   "execution_count": 108,
   "metadata": {},
   "outputs": [],
   "source": [
    "haha = list(input_sequence)"
   ]
  },
  {
   "cell_type": "code",
   "execution_count": 110,
   "metadata": {},
   "outputs": [],
   "source": [
    "def get_features_labels_pairs_generator(subset='train'):\n",
    "  \"\"\"Get generator of (features, labels) pairs to be used for\n",
    "  dataset_formatter.UniMediaDatasetFormatter.\n",
    "  \"\"\"\n",
    "  datasets = mnist.read_data_sets(train_dir='/tmp/data/', validation_size=0)\n",
    "  if subset == 'train':\n",
    "    features = datasets.train.images\n",
    "    labels = datasets.train.labels\n",
    "  else:\n",
    "    features = datasets.test.images\n",
    "    labels = datasets.test.labels\n",
    "  print(\"features.shape: \", features.shape)\n",
    "  labels = [[x] for x in labels] # each item in labels should be a list\n",
    "  return lambda: zip(features, labels)"
   ]
  },
  {
   "cell_type": "code",
   "execution_count": 111,
   "metadata": {},
   "outputs": [
    {
     "name": "stdout",
     "output_type": "stream",
     "text": [
      "Extracting /tmp/data/train-images-idx3-ubyte.gz\n",
      "Extracting /tmp/data/train-labels-idx1-ubyte.gz\n",
      "Extracting /tmp/data/t10k-images-idx3-ubyte.gz\n",
      "Extracting /tmp/data/t10k-labels-idx1-ubyte.gz\n",
      "features.shape:  (60000, 784)\n"
     ]
    }
   ],
   "source": [
    "features_labels_pairs_train =\\\n",
    "      get_features_labels_pairs_generator(subset='train')"
   ]
  },
  {
   "cell_type": "code",
   "execution_count": 132,
   "metadata": {},
   "outputs": [],
   "source": [
    "haha = features_labels_pairs_train()"
   ]
  },
  {
   "cell_type": "code",
   "execution_count": 127,
   "metadata": {},
   "outputs": [
    {
     "name": "stdout",
     "output_type": "stream",
     "text": [
      "<class 'numpy.ndarray'>\n"
     ]
    }
   ],
   "source": [
    "for x in haha:\n",
    "  print(type(x[0]))\n",
    "  break"
   ]
  },
  {
   "cell_type": "code",
   "execution_count": 128,
   "metadata": {},
   "outputs": [
    {
     "name": "stdout",
     "output_type": "stream",
     "text": [
      "0.0\n"
     ]
    }
   ],
   "source": [
    "for haha in x[0]:\n",
    "  print(haha)\n",
    "  break"
   ]
  },
  {
   "cell_type": "code",
   "execution_count": 133,
   "metadata": {},
   "outputs": [
    {
     "data": {
      "text/plain": [
       "zip"
      ]
     },
     "execution_count": 133,
     "metadata": {},
     "output_type": "execute_result"
    }
   ],
   "source": []
  },
  {
   "cell_type": "code",
   "execution_count": 134,
   "metadata": {},
   "outputs": [],
   "source": [
    "haha = (x for x in features_labels_pairs_train())"
   ]
  },
  {
   "cell_type": "code",
   "execution_count": 135,
   "metadata": {},
   "outputs": [
    {
     "data": {
      "text/plain": [
       "generator"
      ]
     },
     "execution_count": 135,
     "metadata": {},
     "output_type": "execute_result"
    }
   ],
   "source": [
    "type(haha)"
   ]
  },
  {
   "cell_type": "code",
   "execution_count": 137,
   "metadata": {
    "collapsed": true
   },
   "outputs": [],
   "source": [
    "classes = ['zero', 'one', 'two', 'three', 'four',\n",
    "             'five', 'six', 'seven', 'eight', 'nine']"
   ]
  },
  {
   "cell_type": "code",
   "execution_count": 139,
   "metadata": {
    "collapsed": true
   },
   "outputs": [],
   "source": [
    "label_to_index_map_dict = {s:i for i, s in enumerate(classes)}"
   ]
  },
  {
   "cell_type": "code",
   "execution_count": 140,
   "metadata": {},
   "outputs": [
    {
     "name": "stdout",
     "output_type": "stream",
     "text": [
      "zero\n",
      "one\n",
      "two\n",
      "three\n",
      "four\n",
      "five\n",
      "six\n",
      "seven\n",
      "eight\n",
      "nine\n"
     ]
    }
   ],
   "source": []
  },
  {
   "cell_type": "code",
   "execution_count": 152,
   "metadata": {
    "collapsed": true
   },
   "outputs": [],
   "source": [
    "def dict_to_text_format(python_dict, map_name='label_to_index_map'):\n",
    "  template = \"\"\"<label_to_index_map> {\n",
    "  key: <key>\n",
    "  value: <value>\n",
    "}\n",
    "\"\"\"\n",
    "  template = template.replace('<label_to_index_map>', map_name)\n",
    "  text_format = ''\n",
    "  for k, v in python_dict.items():\n",
    "    item = template.replace('<key>', \"'\" + str(k) + \"'\")\n",
    "    item = item.replace('<value>', str(v))\n",
    "    text_format += item\n",
    "  return text_format"
   ]
  },
  {
   "cell_type": "code",
   "execution_count": 153,
   "metadata": {},
   "outputs": [
    {
     "name": "stdout",
     "output_type": "stream",
     "text": [
      "label_to_index_map {\n",
      "  key: 'zero'\n",
      "  value: 0\n",
      "}\n",
      "label_to_index_map {\n",
      "  key: 'one'\n",
      "  value: 1\n",
      "}\n",
      "label_to_index_map {\n",
      "  key: 'two'\n",
      "  value: 2\n",
      "}\n",
      "label_to_index_map {\n",
      "  key: 'three'\n",
      "  value: 3\n",
      "}\n",
      "label_to_index_map {\n",
      "  key: 'four'\n",
      "  value: 4\n",
      "}\n",
      "label_to_index_map {\n",
      "  key: 'five'\n",
      "  value: 5\n",
      "}\n",
      "label_to_index_map {\n",
      "  key: 'six'\n",
      "  value: 6\n",
      "}\n",
      "label_to_index_map {\n",
      "  key: 'seven'\n",
      "  value: 7\n",
      "}\n",
      "label_to_index_map {\n",
      "  key: 'eight'\n",
      "  value: 8\n",
      "}\n",
      "label_to_index_map {\n",
      "  key: 'nine'\n",
      "  value: 9\n",
      "}\n",
      "\n"
     ]
    }
   ],
   "source": [
    "print(dict_to_text_format(label_to_index_map_dict))"
   ]
  },
  {
   "cell_type": "code",
   "execution_count": 147,
   "metadata": {},
   "outputs": [
    {
     "name": "stdout",
     "output_type": "stream",
     "text": [
      "<label_to_index_map> {\n",
      "  key: <key>\n",
      "  value: <value>\n",
      "}\n",
      "\n"
     ]
    }
   ],
   "source": [
    "print(template)"
   ]
  },
  {
   "cell_type": "markdown",
   "metadata": {},
   "source": [
    "# CIFAR-100"
   ]
  },
  {
   "cell_type": "code",
   "execution_count": 161,
   "metadata": {
    "collapsed": true
   },
   "outputs": [],
   "source": [
    "import numpy as np\n",
    "import matplotlib.pyplot as plt\n",
    "%matplotlib inline"
   ]
  },
  {
   "cell_type": "code",
   "execution_count": 162,
   "metadata": {
    "collapsed": true
   },
   "outputs": [],
   "source": [
    "def unpickle(file):\n",
    "    import pickle\n",
    "    with open(file, 'rb') as fo:\n",
    "        dict = pickle.load(fo, encoding='bytes')\n",
    "    return dict"
   ]
  },
  {
   "cell_type": "code",
   "execution_count": 169,
   "metadata": {
    "collapsed": true
   },
   "outputs": [],
   "source": [
    "# Be sure to store CIFAR data in these locations\n",
    "root_dir = \"../../raw_datasets/image/cifar-100-python/\"\n",
    "metadata_file = root_dir + 'meta'\n",
    "train_file = root_dir + 'train'\n",
    "test_file = root_dir + 'test'\n",
    "metadata_dict = unpickle(metadata_file)\n",
    "train_dict = unpickle(train_file)\n",
    "test_dict = unpickle(test_file)"
   ]
  },
  {
   "cell_type": "code",
   "execution_count": 171,
   "metadata": {},
   "outputs": [
    {
     "name": "stdout",
     "output_type": "stream",
     "text": [
      "dict_keys([b'fine_label_names', b'coarse_label_names'])\n",
      "dict_keys([b'filenames', b'batch_label', b'fine_labels', b'coarse_labels', b'data'])\n",
      "dict_keys([b'filenames', b'batch_label', b'fine_labels', b'coarse_labels', b'data'])\n"
     ]
    }
   ],
   "source": [
    "print(metadata_dict.keys())\n",
    "print(train_dict.keys())\n",
    "print(test_dict.keys())"
   ]
  },
  {
   "cell_type": "code",
   "execution_count": 173,
   "metadata": {},
   "outputs": [
    {
     "data": {
      "text/plain": [
       "(50000, 3072)"
      ]
     },
     "execution_count": 173,
     "metadata": {},
     "output_type": "execute_result"
    }
   ],
   "source": [
    "train_dict[b'data'].shape"
   ]
  },
  {
   "cell_type": "code",
   "execution_count": 195,
   "metadata": {},
   "outputs": [
    {
     "data": {
      "text/plain": [
       "bytes"
      ]
     },
     "execution_count": 195,
     "metadata": {},
     "output_type": "execute_result"
    }
   ],
   "source": [
    "test_dict[b'batch_label']"
   ]
  },
  {
   "cell_type": "code",
   "execution_count": 198,
   "metadata": {
    "collapsed": true
   },
   "outputs": [],
   "source": [
    "data_dict = train_dict\n",
    "images = data_dict[b'data']\n",
    "num_examples = images.shape[0]\n",
    "haha = images.reshape(num_examples, 3, 32, 32).transpose([0, 2, 3, 1])\n",
    "\n",
    "VECT = [0.299, 0.587, 0.114]\n",
    "res = haha.dot(VECT) # Convert to gray scale\n",
    "res = res.reshape(num_examples, 32*32)"
   ]
  },
  {
   "cell_type": "code",
   "execution_count": 209,
   "metadata": {},
   "outputs": [],
   "source": [
    "coarse_labels = data_dict[b'coarse_labels']\n",
    "translation = len(coarse_label_names) # 20\n",
    "fine_labels = [x + translation for x in data_dict[b'fine_labels']]"
   ]
  },
  {
   "cell_type": "code",
   "execution_count": 214,
   "metadata": {},
   "outputs": [
    {
     "data": {
      "text/plain": [
       "50000"
      ]
     },
     "execution_count": 214,
     "metadata": {},
     "output_type": "execute_result"
    }
   ],
   "source": [
    "len(coarse_labels)"
   ]
  },
  {
   "cell_type": "code",
   "execution_count": null,
   "metadata": {
    "collapsed": true
   },
   "outputs": [],
   "source": []
  },
  {
   "cell_type": "code",
   "execution_count": 212,
   "metadata": {},
   "outputs": [
    {
     "data": {
      "text/plain": [
       "20"
      ]
     },
     "execution_count": 212,
     "metadata": {},
     "output_type": "execute_result"
    }
   ],
   "source": [
    "np.array(fine_labels).min()"
   ]
  },
  {
   "cell_type": "code",
   "execution_count": 200,
   "metadata": {},
   "outputs": [
    {
     "data": {
      "text/plain": [
       "(50000, 1024)"
      ]
     },
     "execution_count": 200,
     "metadata": {},
     "output_type": "execute_result"
    }
   ],
   "source": [
    "res.shape"
   ]
  },
  {
   "cell_type": "code",
   "execution_count": 197,
   "metadata": {},
   "outputs": [
    {
     "ename": "SyntaxError",
     "evalue": "invalid syntax (<ipython-input-197-d8b18f67dbac>, line 1)",
     "output_type": "error",
     "traceback": [
      "\u001b[0;36m  File \u001b[0;32m\"<ipython-input-197-d8b18f67dbac>\"\u001b[0;36m, line \u001b[0;32m1\u001b[0m\n\u001b[0;31m    images.reshape(:, 3, 32, 32).transpose([0, 2, 3, 1])\u001b[0m\n\u001b[0m                   ^\u001b[0m\n\u001b[0;31mSyntaxError\u001b[0m\u001b[0;31m:\u001b[0m invalid syntax\n"
     ]
    }
   ],
   "source": [
    "images.reshape(:, 3, 32, 32).transpose([0, 2, 3, 1])"
   ]
  },
  {
   "cell_type": "code",
   "execution_count": 215,
   "metadata": {
    "collapsed": true
   },
   "outputs": [],
   "source": [
    "labels = zip(coarse_labels, fine_labels)"
   ]
  },
  {
   "cell_type": "code",
   "execution_count": 217,
   "metadata": {},
   "outputs": [
    {
     "name": "stdout",
     "output_type": "stream",
     "text": [
      "(11, 39)\n"
     ]
    }
   ],
   "source": [
    "for x in labels:\n",
    "  print(x)\n",
    "  break"
   ]
  },
  {
   "cell_type": "code",
   "execution_count": 183,
   "metadata": {
    "collapsed": true
   },
   "outputs": [],
   "source": []
  },
  {
   "cell_type": "code",
   "execution_count": 184,
   "metadata": {},
   "outputs": [
    {
     "ename": "TypeError",
     "evalue": "'axis' is an invalid keyword argument for this function",
     "output_type": "error",
     "traceback": [
      "\u001b[0;31m---------------------------------------------------------------------------\u001b[0m",
      "\u001b[0;31mTypeError\u001b[0m                                 Traceback (most recent call last)",
      "\u001b[0;32m<ipython-input-184-1a467064031d>\u001b[0m in \u001b[0;36m<module>\u001b[0;34m()\u001b[0m\n\u001b[0;32m----> 1\u001b[0;31m \u001b[0mhahaha\u001b[0m\u001b[0;34m.\u001b[0m\u001b[0mdot\u001b[0m\u001b[0;34m(\u001b[0m\u001b[0mVECT\u001b[0m\u001b[0;34m,\u001b[0m \u001b[0maxis\u001b[0m\u001b[0;34m=\u001b[0m\u001b[0;36m1\u001b[0m\u001b[0;34m)\u001b[0m\u001b[0;34m\u001b[0m\u001b[0m\n\u001b[0m",
      "\u001b[0;31mTypeError\u001b[0m: 'axis' is an invalid keyword argument for this function"
     ]
    }
   ],
   "source": [
    "np.dot(VECT, axis=1)"
   ]
  },
  {
   "cell_type": "code",
   "execution_count": 233,
   "metadata": {},
   "outputs": [],
   "source": [
    "fine_label_names = metadata_dict[b'fine_label_names']\n",
    "fine_label_names = [x.decode('utf-8') for x in fine_label_names]"
   ]
  },
  {
   "cell_type": "code",
   "execution_count": 234,
   "metadata": {},
   "outputs": [],
   "source": [
    "coarse_label_names = metadata_dict[b'coarse_label_names']\n",
    "coarse_label_names = [x.decode('utf-8') for x in coarse_label_names]"
   ]
  },
  {
   "cell_type": "code",
   "execution_count": 192,
   "metadata": {},
   "outputs": [
    {
     "data": {
      "text/plain": [
       "20"
      ]
     },
     "execution_count": 192,
     "metadata": {},
     "output_type": "execute_result"
    }
   ],
   "source": [
    "len(coarse_label_names)"
   ]
  },
  {
   "cell_type": "code",
   "execution_count": null,
   "metadata": {
    "collapsed": true
   },
   "outputs": [],
   "source": [
    "dataset_name = 'ciao'\n",
    "# train_dir = os.path.join(input_dir, '{}/{}.data/train'.format(dataset_name, dataset_name))\n",
    "test_dir = os.path.join(input_dir, '{}/{}.data/test'.format(dataset_name, dataset_name))\n",
    "dataset_dir = test_dir\n",
    "autodl_dataset = AutoDLDataset(dataset_dir, repeat=False)\n",
    "dataset = autodl_dataset.get_dataset()"
   ]
  },
  {
   "cell_type": "code",
   "execution_count": null,
   "metadata": {
    "collapsed": true
   },
   "outputs": [],
   "source": [
    "path_to_tfrecord = os.path.join(input_dir, '{}/{}.data/train/sample-{}-train.tfrecord'.format(dataset_name, dataset_name))"
   ]
  },
  {
   "cell_type": "markdown",
   "metadata": {},
   "source": [
    "## Verification on TFRecords"
   ]
  },
  {
   "cell_type": "code",
   "execution_count": 336,
   "metadata": {
    "collapsed": true
   },
   "outputs": [],
   "source": [
    "# Copyright 2016 Google Inc. All Rights Reserved.\n",
    "#\n",
    "# Licensed under the Apache License, Version 2.0 (the \"License\");\n",
    "# you may not use this file except in compliance with the License.\n",
    "# You may obtain a copy of the License at\n",
    "#\n",
    "#      http://www.apache.org/licenses/LICENSE-2.0\n",
    "#\n",
    "# Unless required by applicable law or agreed to in writing, software\n",
    "# distributed under the License is distributed on an \"AS-IS\" BASIS,\n",
    "# WITHOUT WARRANTIES OR CONDITIONS OF ANY KIND, either express or implied.\n",
    "# See the License for the specific language governing permissions and\n",
    "# limitations under the License.\n",
    "\n",
    "\"\"\"AutoDL datasets.\n",
    "\n",
    "Reads data in the Tensorflow AutoDL standard format.\n",
    "\"\"\"\n",
    "import os\n",
    "import tensorflow as tf\n",
    "from tensorflow import app\n",
    "from tensorflow import flags\n",
    "from tensorflow import gfile\n",
    "from tensorflow import logging\n",
    "from google.protobuf import text_format\n",
    "import dataset_utils\n",
    "from data_pb2 import DataSpecification\n",
    "from data_pb2 import MatrixSpec\n",
    "\n",
    "# FLAGS = flags.FLAGS\n",
    "#\n",
    "# flags.DEFINE_string(\"dataset_dir\", \"\",\n",
    "#                     \"absolute path to data directory.\")\n",
    "#\n",
    "# def metadata_filename(dataset_name):\n",
    "#   return os.path.join(FLAGS.dataset_dir, dataset_name,\n",
    "#                       \"metadata.textproto\")\n",
    "#\n",
    "#\n",
    "# def dataset_file_pattern(dataset_name):\n",
    "#   return os.path.join(FLAGS.dataset_dir, dataset_name, \"sample*\")\n",
    "\n",
    "def metadata_filename(dataset_name):\n",
    "  return os.path.join(\"\", dataset_name,\n",
    "                      \"metadata.textproto\")\n",
    "\n",
    "\n",
    "def dataset_file_pattern(dataset_name):\n",
    "  return os.path.join(\"\", dataset_name, \"sample*\")\n",
    "\n",
    "\n",
    "class AutoDLMetadata(object):\n",
    "  \"\"\"AutoDL data specification.\"\"\"\n",
    "\n",
    "  def __init__(self, dataset_name):\n",
    "    self.dataset_name_ = dataset_name\n",
    "    self.metadata_ = DataSpecification()\n",
    "    with gfile.GFile(metadata_filename(dataset_name), \"r\") as f:\n",
    "      text_format.Merge(f.read(), self.metadata_)\n",
    "\n",
    "  def get_dataset_name(self):\n",
    "    return self.dataset_name_\n",
    "\n",
    "  def is_compressed(self, bundle_index):\n",
    "    return self.metadata_.matrix_spec[\n",
    "        bundle_index].format == MatrixSpec.COMPRESSED\n",
    "\n",
    "  def is_sparse(self, bundle_index):\n",
    "    return self.metadata_.matrix_spec[bundle_index].format == MatrixSpec.SPARSE\n",
    "\n",
    "  def get_bundle_size(self):\n",
    "    return len(self.metadata_.matrix_spec)\n",
    "\n",
    "  def get_matrix_size(self, bundle_index):\n",
    "    return (self.metadata_.matrix_spec[bundle_index].row_count,\n",
    "            self.metadata_.matrix_spec[bundle_index].col_count)\n",
    "\n",
    "  def get_sequence_size(self):\n",
    "    return self.metadata_.sequence_size\n",
    "\n",
    "  def get_output_size(self):\n",
    "    return self.metadata_.output_dim\n",
    "\n",
    "  def size(self):\n",
    "    return self.metadata_.sample_count\n",
    "\n",
    "\n",
    "class AutoDLDataset(object):\n",
    "  \"\"\"AutoDL Datasets out of TFRecords of SequenceExamples.\n",
    "\n",
    "     See cs///experimental/autodl/export/tensorflow/README.md for more details\n",
    "     on the features and labels.\n",
    "  \"\"\"\n",
    "\n",
    "  def __init__(self, dataset_name, repeat=True):\n",
    "    \"\"\"Construct an AutoDL Dataset.\n",
    "\n",
    "    Args:\n",
    "      dataset_name: name of the dataset under the 'dataset_dir' flag.\n",
    "    \"\"\"\n",
    "    self.dataset_name_ = dataset_name\n",
    "    self.metadata_ = AutoDLMetadata(dataset_name)\n",
    "    self._create_dataset()\n",
    "    self.dataset_ = self.dataset_.map(self._parse_function)\n",
    "    # self.dataset_ = self.dataset_.batch(batch_size)\n",
    "    if repeat:\n",
    "      self.dataset_ = self.dataset_.repeat()\n",
    "\n",
    "  def get_dataset(self):\n",
    "    \"\"\"Returns a tf.data.dataset object.\"\"\"\n",
    "    return self.dataset_\n",
    "\n",
    "  def get_metadata(self):\n",
    "    \"\"\"Returns an AutoDLMetadata object.\"\"\"\n",
    "    return self.metadata_\n",
    "\n",
    "  def _feature_key(self, index, feature_name):\n",
    "    return str(index) + \"_\" + feature_name\n",
    "\n",
    "  def _parse_function(self, sequence_example_proto):\n",
    "    \"\"\"Parse a SequenceExample in the AutoDL/TensorFlow format.\n",
    "\n",
    "    Args:\n",
    "      sequence_example_proto: a SequenceExample with \"x_dense_input\" or sparse\n",
    "          input representation.\n",
    "    Returns:\n",
    "      An array of tensors.\n",
    "    \"\"\"\n",
    "    sequence_features = {}\n",
    "    for i in range(self.metadata_.get_bundle_size()):\n",
    "      if self.metadata_.is_sparse(i):\n",
    "        sequence_features[self._feature_key(\n",
    "            i, \"sparse_col_index\")] = tf.VarLenFeature(tf.int64)\n",
    "        sequence_features[self._feature_key(\n",
    "            i, \"sparse_row_index\")] = tf.VarLenFeature(tf.int64)\n",
    "        sequence_features[self._feature_key(\n",
    "            i, \"sparse_value\")] = tf.VarLenFeature(tf.float32)\n",
    "      elif self.metadata_.is_compressed(i):\n",
    "        sequence_features[self._feature_key(\n",
    "            i, \"compressed\")] = tf.VarLenFeature(tf.string)\n",
    "      else:\n",
    "        sequence_features[self._feature_key(\n",
    "            i, \"dense_input\")] = tf.FixedLenSequenceFeature(\n",
    "                self.metadata_.get_matrix_size(i), dtype=tf.float32)\n",
    "    contexts, features = tf.parse_single_sequence_example(\n",
    "        sequence_example_proto,\n",
    "        context_features={\n",
    "            \"label_index\": tf.VarLenFeature(tf.int64),\n",
    "            \"label_score\": tf.VarLenFeature(tf.float32),\n",
    "            \"id\": tf.FixedLenFeature(1, dtype=tf.int64),\n",
    "        },\n",
    "        sequence_features=sequence_features)\n",
    "\n",
    "    sample = []\n",
    "    for i in range(self.metadata_.get_bundle_size()):\n",
    "      key_dense = self._feature_key(i, \"dense_input\")\n",
    "      row_count, col_count = self.metadata_.get_matrix_size(i)\n",
    "      if key_dense in features:\n",
    "        f = features[key_dense]\n",
    "        sample.append(tf.reshape(f, [-1, row_count, col_count]))\n",
    "\n",
    "      key_compressed = self._feature_key(i, \"compressed\")\n",
    "      if key_compressed in features:\n",
    "        compressed_images = features[key_compressed].values\n",
    "        images = tf.map_fn(\n",
    "            dataset_utils.decompress_image, compressed_images, dtype=tf.float32)\n",
    "        sample.append(tf.reshape(images, [-1, row_count, col_count]))\n",
    "\n",
    "      key_sparse_val = self._feature_key(i, \"sparse_value\")\n",
    "      if key_sparse_val in features:\n",
    "        key_sparse_col = self._feature_key(i, \"sparse_col_index\")\n",
    "        key_sparse_row = self._feature_key(i, \"sparse_row_index\")\n",
    "        sparse_col = features[key_sparse_col].values\n",
    "        sparse_row = features[key_sparse_row].values\n",
    "        sparse_val = features[key_sparse_val]\n",
    "        indices = sparse_val.indices\n",
    "        indices = tf.concat([\n",
    "            tf.reshape(indices[:, 0], [-1, 1]),\n",
    "            tf.reshape(sparse_row, [-1, 1]),\n",
    "            tf.reshape(sparse_col, [-1, 1])\n",
    "        ], 1)\n",
    "        sparse_tensor = tf.sparse_reorder(\n",
    "            tf.SparseTensor(\n",
    "                indices, sparse_val.values,\n",
    "                [self.metadata_.get_sequence_size(), row_count, col_count]))\n",
    "        # TODO: see how we can keep sparse tensors instead of\n",
    "        # returning dense ones.\n",
    "        sample.append(tf.sparse_tensor_to_dense(sparse_tensor))\n",
    "\n",
    "    # Enforce the Sample tensors to have the correct sequence length.\n",
    "    sequence_size = self.metadata_.get_sequence_size()\n",
    "    sample = [\n",
    "        dataset_utils.enforce_sequence_size(t, sequence_size) for t in sample\n",
    "    ]\n",
    "\n",
    "    labels = tf.sparse_to_dense(\n",
    "        contexts[\"label_index\"].values, (self.metadata_.get_output_size(),),\n",
    "        contexts[\"label_score\"].values,\n",
    "        validate_indices=False)\n",
    "    sample.append(contexts[\"id\"])\n",
    "    sample.append(labels)\n",
    "    return sample\n",
    "\n",
    "  def _create_dataset(self):\n",
    "    if not hasattr(self, \"dataset_\"):\n",
    "      files = gfile.Glob(dataset_file_pattern(self.dataset_name_))\n",
    "      if not files:\n",
    "        raise IOError(\"Unable to find training files. data_pattern='\" +\n",
    "                      dataset_file_pattern(self.dataset_name_) + \"'.\")\n",
    "      logging.info(\"Number of training files: %s.\", str(len(files)))\n",
    "      self.dataset_ = tf.data.TFRecordDataset(files)\n",
    "\n",
    "  # def init(self, batch_size=30, repeat=True):\n",
    "  #   self._create_dataset()\n",
    "  #   self.dataset_ = self.dataset_.map(self._parse_function)\n",
    "  #   # self.dataset_ = self.dataset_.batch(batch_size)\n",
    "  #   if repeat:\n",
    "  #     self.dataset_ = self.dataset_.repeat()\n",
    "\n",
    "\n",
    "def main(argv):\n",
    "  del argv  # Unused.\n",
    "  dataset = AutoDLDataset(\"mnist\")\n",
    "  dataset.init()\n",
    "  iterator = dataset.get_dataset().make_one_shot_iterator()\n",
    "  next_element = iterator.get_next()\n",
    "\n",
    "  sess = tf.Session()\n",
    "  for idx in range(10):\n",
    "    print(\"Example \" + str(idx))\n",
    "    print(sess.run(next_element))\n",
    "\n",
    "\n",
    "# if __name__ == \"__main__\":\n",
    "#   app.run(main)\n"
   ]
  },
  {
   "cell_type": "code",
   "execution_count": 365,
   "metadata": {},
   "outputs": [
    {
     "name": "stdout",
     "output_type": "stream",
     "text": [
      "INFO:tensorflow:Number of training files: 1.\n"
     ]
    }
   ],
   "source": [
    "dataset_name = 'ciao'\n",
    "# train_dir = os.path.join(input_dir, '{}/{}.data/train'.format(dataset_name, dataset_name))\n",
    "test_dir = os.path.join(input_dir, '{}/{}.data/test'.format(dataset_name, dataset_name))\n",
    "dataset_dir = test_dir\n",
    "autodl_dataset = AutoDLDataset(dataset_dir, repeat=False)\n",
    "dataset = autodl_dataset.get_dataset()\n",
    "iterator = dataset.make_one_shot_iterator()\n",
    "next_element = iterator.get_next()\n",
    "features, labels = next_element"
   ]
  },
  {
   "cell_type": "code",
   "execution_count": 378,
   "metadata": {},
   "outputs": [
    {
     "name": "stdout",
     "output_type": "stream",
     "text": [
      "[[[114.091995 110.27699  109.27699  ... 128.681    128.98     133.062   ]\n",
      "  [109.41901  107.533005 108.935    ... 140.21     140.808    144.716   ]\n",
      "  [127.084    120.41499  118.746    ... 148.021    147.733    150.342   ]\n",
      "  ...\n",
      "  [ 24.335     23.705002  19.776001 ... 112.614     73.966995  46.212006]\n",
      "  [ 22.591003  17.074997   8.733002 ... 115.90199   79.938995  37.824997]\n",
      "  [ 12.733002   8.031998   6.102997 ... 110.90199   99.825     69.754   ]]]\n"
     ]
    }
   ],
   "source": [
    "with tf.Session() as sess:\n",
    "  for i in range(1):\n",
    "    ele = sess.run(tf.abs(features - 100))\n",
    "    print(ele)"
   ]
  },
  {
   "cell_type": "code",
   "execution_count": 409,
   "metadata": {},
   "outputs": [
    {
     "name": "stdout",
     "output_type": "stream",
     "text": [
      "INFO:tensorflow:Number of training files: 1.\n"
     ]
    },
    {
     "name": "stderr",
     "output_type": "stream",
     "text": [
      "[INFO] [01:19:48:tensorflow] Number of training files: 1.\n"
     ]
    }
   ],
   "source": [
    "dataset_name = 'ciao'\n",
    "train_dir = os.path.join(input_dir, '{}/{}.data/train'.format(dataset_name, dataset_name))\n",
    "test_dir = os.path.join(input_dir, '{}/{}.data/test'.format(dataset_name, dataset_name))\n",
    "dataset_dir = train_dir\n",
    "autodl_dataset = AutoDLDataset(dataset_dir, repeat=False)\n",
    "dataset = autodl_dataset.get_dataset()\n",
    "iterator = dataset.make_one_shot_iterator()\n",
    "next_element = iterator.get_next()"
   ]
  },
  {
   "cell_type": "code",
   "execution_count": 394,
   "metadata": {},
   "outputs": [
    {
     "data": {
      "text/plain": [
       "<RepeatDataset shapes: ((1, 32, 32), (120,)), types: (tf.float32, tf.float32)>"
      ]
     },
     "execution_count": 394,
     "metadata": {},
     "output_type": "execute_result"
    }
   ],
   "source": [
    "dataset"
   ]
  },
  {
   "cell_type": "code",
   "execution_count": 405,
   "metadata": {
    "scrolled": true
   },
   "outputs": [
    {
     "name": "stdout",
     "output_type": "stream",
     "text": [
      "1000\n",
      "2000\n",
      "3000\n",
      "4000\n",
      "5000\n",
      "6000\n",
      "7000\n",
      "8000\n",
      "9000\n",
      "10000\n",
      "11000\n",
      "12000\n",
      "13000\n",
      "14000\n",
      "15000\n",
      "16000\n",
      "17000\n",
      "18000\n",
      "19000\n",
      "20000\n",
      "21000\n",
      "22000\n",
      "23000\n",
      "24000\n",
      "25000\n",
      "26000\n",
      "27000\n",
      "28000\n",
      "29000\n",
      "30000\n",
      "31000\n",
      "32000\n",
      "33000\n",
      "34000\n",
      "35000\n",
      "36000\n",
      "37000\n",
      "38000\n",
      "39000\n",
      "40000\n",
      "41000\n",
      "42000\n",
      "43000\n",
      "44000\n",
      "45000\n",
      "46000\n",
      "47000\n",
      "48000\n",
      "49000\n",
      "50000\n",
      "The End. 50000\n"
     ]
    }
   ],
   "source": [
    "counter = 0\n",
    "X_train = []\n",
    "Y_train = []\n",
    "with tf.Session() as sess:\n",
    "  while True:\n",
    "    try:\n",
    "      features, labels = sess.run(next_element)\n",
    "      X_train.append(features.flatten())\n",
    "      Y_train.append(labels.flatten())\n",
    "      counter += 1\n",
    "      if counter % 1000 == 0:\n",
    "        print(counter)\n",
    "    except tf.errors.OutOfRangeError:\n",
    "      print(\"The End.\", counter)\n",
    "      break"
   ]
  },
  {
   "cell_type": "code",
   "execution_count": 406,
   "metadata": {
    "collapsed": true
   },
   "outputs": [],
   "source": [
    "X_train = np.array(X_train)\n",
    "Y_train = np.array(Y_train)"
   ]
  },
  {
   "cell_type": "code",
   "execution_count": 407,
   "metadata": {},
   "outputs": [
    {
     "data": {
      "text/plain": [
       "(50000, 1024)"
      ]
     },
     "execution_count": 407,
     "metadata": {},
     "output_type": "execute_result"
    }
   ],
   "source": [
    "X_train.shape"
   ]
  },
  {
   "cell_type": "code",
   "execution_count": 408,
   "metadata": {},
   "outputs": [
    {
     "data": {
      "text/plain": [
       "(50000, 120)"
      ]
     },
     "execution_count": 408,
     "metadata": {},
     "output_type": "execute_result"
    }
   ],
   "source": [
    "Y_train.shape"
   ]
  },
  {
   "cell_type": "code",
   "execution_count": 413,
   "metadata": {},
   "outputs": [
    {
     "name": "stdout",
     "output_type": "stream",
     "text": [
      "INFO:tensorflow:Number of training files: 1.\n"
     ]
    },
    {
     "name": "stderr",
     "output_type": "stream",
     "text": [
      "[INFO] [01:20:47:tensorflow] Number of training files: 1.\n"
     ]
    }
   ],
   "source": [
    "dataset_name = 'ciao'\n",
    "train_dir = os.path.join(input_dir, '{}/{}.data/train'.format(dataset_name, dataset_name))\n",
    "test_dir = os.path.join(input_dir, '{}/{}.data/test'.format(dataset_name, dataset_name))\n",
    "dataset_dir = test_dir\n",
    "autodl_dataset = AutoDLDataset(dataset_dir, repeat=False)\n",
    "dataset = autodl_dataset.get_dataset()\n",
    "iterator = dataset.make_one_shot_iterator()\n",
    "next_element = iterator.get_next()"
   ]
  },
  {
   "cell_type": "code",
   "execution_count": 414,
   "metadata": {},
   "outputs": [
    {
     "name": "stdout",
     "output_type": "stream",
     "text": [
      "1000\n",
      "2000\n",
      "3000\n",
      "4000\n",
      "5000\n",
      "6000\n",
      "7000\n",
      "8000\n",
      "9000\n",
      "10000\n",
      "The End. 10000\n"
     ]
    }
   ],
   "source": [
    "counter = 0\n",
    "X_test = []\n",
    "with tf.Session() as sess:\n",
    "  while True:\n",
    "    try:\n",
    "      features, labels = sess.run(next_element)\n",
    "      X_test.append(features.flatten())\n",
    "      counter += 1\n",
    "      if counter % 1000 == 0:\n",
    "        print(counter)\n",
    "    except tf.errors.OutOfRangeError:\n",
    "      print(\"The End.\", counter)\n",
    "      break\n",
    "X_test = np.array(X_test)"
   ]
  },
  {
   "cell_type": "code",
   "execution_count": 428,
   "metadata": {},
   "outputs": [],
   "source": [
    "## Uncomment the right line in the following:\n",
    "from autosklearn.classification import AutoSklearnClassifier\n",
    "\n",
    "M = AutoSklearnClassifier(time_left_for_this_task=60, per_run_time_limit=10) # Change the time budget!!!!"
   ]
  },
  {
   "cell_type": "code",
   "execution_count": 429,
   "metadata": {},
   "outputs": [
    {
     "name": "stderr",
     "output_type": "stream",
     "text": [
      "/Users/evariste/anaconda3/lib/python3.6/site-packages/autosklearn/pipeline/create_searchspace_util.py:123: FutureWarning: Using a non-tuple sequence for multidimensional indexing is deprecated; use `arr[tuple(seq)]` instead of `arr[seq]`. In the future this will be interpreted as an array index, `arr[np.array(seq)]`, which will result either in an error or a different result.\n",
      "  if np.sum(matches[slices]) > 0:\n",
      "/Users/evariste/anaconda3/lib/python3.6/site-packages/autosklearn/pipeline/create_searchspace_util.py:208: FutureWarning: Using a non-tuple sequence for multidimensional indexing is deprecated; use `arr[tuple(seq)]` instead of `arr[seq]`. In the future this will be interpreted as an array index, `arr[np.array(seq)]`, which will result either in an error or a different result.\n",
      "  if np.sum(matches[slices_]) == 0:\n",
      "/Users/evariste/anaconda3/lib/python3.6/site-packages/autosklearn/pipeline/create_searchspace_util.py:228: FutureWarning: Using a non-tuple sequence for multidimensional indexing is deprecated; use `arr[tuple(seq)]` instead of `arr[seq]`. In the future this will be interpreted as an array index, `arr[np.array(seq)]`, which will result either in an error or a different result.\n",
      "  if np.sum(matches[slices]) == 0:\n",
      "/Users/evariste/anaconda3/lib/python3.6/site-packages/sklearn/metrics/classification.py:1113: UndefinedMetricWarning: F-score is ill-defined and being set to 0.0 in labels with no predicted samples.\n",
      "  'precision', 'predicted', average, warn_for)\n",
      "/Users/evariste/anaconda3/lib/python3.6/site-packages/autosklearn/pipeline/create_searchspace_util.py:123: FutureWarning: Using a non-tuple sequence for multidimensional indexing is deprecated; use `arr[tuple(seq)]` instead of `arr[seq]`. In the future this will be interpreted as an array index, `arr[np.array(seq)]`, which will result either in an error or a different result.\n",
      "  if np.sum(matches[slices]) > 0:\n",
      "/Users/evariste/anaconda3/lib/python3.6/site-packages/autosklearn/pipeline/create_searchspace_util.py:208: FutureWarning: Using a non-tuple sequence for multidimensional indexing is deprecated; use `arr[tuple(seq)]` instead of `arr[seq]`. In the future this will be interpreted as an array index, `arr[np.array(seq)]`, which will result either in an error or a different result.\n",
      "  if np.sum(matches[slices_]) == 0:\n",
      "/Users/evariste/anaconda3/lib/python3.6/site-packages/autosklearn/pipeline/create_searchspace_util.py:228: FutureWarning: Using a non-tuple sequence for multidimensional indexing is deprecated; use `arr[tuple(seq)]` instead of `arr[seq]`. In the future this will be interpreted as an array index, `arr[np.array(seq)]`, which will result either in an error or a different result.\n",
      "  if np.sum(matches[slices]) == 0:\n"
     ]
    },
    {
     "name": "stdout",
     "output_type": "stream",
     "text": [
      "[WARNING] [2018-10-17 01:26:37,819:smac.intensification.intensification.Intensifier] Challenger was the same as the current incumbent; Skipping challenger\n",
      "[WARNING] [2018-10-17 01:26:37,819:smac.intensification.intensification.Intensifier] Challenger was the same as the current incumbent; Skipping challenger\n"
     ]
    },
    {
     "name": "stderr",
     "output_type": "stream",
     "text": [
      "/Users/evariste/anaconda3/lib/python3.6/site-packages/autosklearn/pipeline/create_searchspace_util.py:123: FutureWarning: Using a non-tuple sequence for multidimensional indexing is deprecated; use `arr[tuple(seq)]` instead of `arr[seq]`. In the future this will be interpreted as an array index, `arr[np.array(seq)]`, which will result either in an error or a different result.\n",
      "  if np.sum(matches[slices]) > 0:\n",
      "/Users/evariste/anaconda3/lib/python3.6/site-packages/autosklearn/pipeline/create_searchspace_util.py:208: FutureWarning: Using a non-tuple sequence for multidimensional indexing is deprecated; use `arr[tuple(seq)]` instead of `arr[seq]`. In the future this will be interpreted as an array index, `arr[np.array(seq)]`, which will result either in an error or a different result.\n",
      "  if np.sum(matches[slices_]) == 0:\n",
      "/Users/evariste/anaconda3/lib/python3.6/site-packages/autosklearn/pipeline/create_searchspace_util.py:228: FutureWarning: Using a non-tuple sequence for multidimensional indexing is deprecated; use `arr[tuple(seq)]` instead of `arr[seq]`. In the future this will be interpreted as an array index, `arr[np.array(seq)]`, which will result either in an error or a different result.\n",
      "  if np.sum(matches[slices]) == 0:\n",
      "/Users/evariste/anaconda3/lib/python3.6/site-packages/autosklearn/pipeline/create_searchspace_util.py:123: FutureWarning: Using a non-tuple sequence for multidimensional indexing is deprecated; use `arr[tuple(seq)]` instead of `arr[seq]`. In the future this will be interpreted as an array index, `arr[np.array(seq)]`, which will result either in an error or a different result.\n",
      "  if np.sum(matches[slices]) > 0:\n",
      "/Users/evariste/anaconda3/lib/python3.6/site-packages/autosklearn/pipeline/create_searchspace_util.py:208: FutureWarning: Using a non-tuple sequence for multidimensional indexing is deprecated; use `arr[tuple(seq)]` instead of `arr[seq]`. In the future this will be interpreted as an array index, `arr[np.array(seq)]`, which will result either in an error or a different result.\n",
      "  if np.sum(matches[slices_]) == 0:\n",
      "/Users/evariste/anaconda3/lib/python3.6/site-packages/autosklearn/pipeline/create_searchspace_util.py:228: FutureWarning: Using a non-tuple sequence for multidimensional indexing is deprecated; use `arr[tuple(seq)]` instead of `arr[seq]`. In the future this will be interpreted as an array index, `arr[np.array(seq)]`, which will result either in an error or a different result.\n",
      "  if np.sum(matches[slices]) == 0:\n"
     ]
    },
    {
     "name": "stdout",
     "output_type": "stream",
     "text": [
      "[WARNING] [2018-10-17 01:26:56,003:smac.intensification.intensification.Intensifier] Challenger was the same as the current incumbent; Skipping challenger\n",
      "[WARNING] [2018-10-17 01:26:56,003:smac.intensification.intensification.Intensifier] Challenger was the same as the current incumbent; Skipping challenger\n",
      "[WARNING] [2018-10-17 01:26:56,011:smac.intensification.intensification.Intensifier] Challenger was the same as the current incumbent; Skipping challenger\n",
      "[WARNING] [2018-10-17 01:26:56,011:smac.intensification.intensification.Intensifier] Challenger was the same as the current incumbent; Skipping challenger\n",
      "[WARNING] [2018-10-17 01:26:56,016:smac.intensification.intensification.Intensifier] Challenger was the same as the current incumbent; Skipping challenger\n",
      "[WARNING] [2018-10-17 01:26:56,016:smac.intensification.intensification.Intensifier] Challenger was the same as the current incumbent; Skipping challenger\n",
      "[WARNING] [2018-10-17 01:26:56,021:smac.intensification.intensification.Intensifier] Challenger was the same as the current incumbent; Skipping challenger\n",
      "[WARNING] [2018-10-17 01:26:56,021:smac.intensification.intensification.Intensifier] Challenger was the same as the current incumbent; Skipping challenger\n",
      "[WARNING] [2018-10-17 01:26:56,027:smac.intensification.intensification.Intensifier] Challenger was the same as the current incumbent; Skipping challenger\n",
      "[WARNING] [2018-10-17 01:26:56,027:smac.intensification.intensification.Intensifier] Challenger was the same as the current incumbent; Skipping challenger\n",
      "[WARNING] [2018-10-17 01:26:56,035:smac.intensification.intensification.Intensifier] Challenger was the same as the current incumbent; Skipping challenger\n",
      "[WARNING] [2018-10-17 01:26:56,035:smac.intensification.intensification.Intensifier] Challenger was the same as the current incumbent; Skipping challenger\n",
      "[WARNING] [2018-10-17 01:26:56,039:smac.intensification.intensification.Intensifier] Challenger was the same as the current incumbent; Skipping challenger\n",
      "[WARNING] [2018-10-17 01:26:56,039:smac.intensification.intensification.Intensifier] Challenger was the same as the current incumbent; Skipping challenger\n",
      "[WARNING] [2018-10-17 01:26:56,044:smac.intensification.intensification.Intensifier] Challenger was the same as the current incumbent; Skipping challenger\n",
      "[WARNING] [2018-10-17 01:26:56,044:smac.intensification.intensification.Intensifier] Challenger was the same as the current incumbent; Skipping challenger\n",
      "[WARNING] [2018-10-17 01:26:56,053:smac.intensification.intensification.Intensifier] Challenger was the same as the current incumbent; Skipping challenger\n",
      "[WARNING] [2018-10-17 01:26:56,053:smac.intensification.intensification.Intensifier] Challenger was the same as the current incumbent; Skipping challenger\n"
     ]
    },
    {
     "name": "stderr",
     "output_type": "stream",
     "text": [
      "/Users/evariste/anaconda3/lib/python3.6/site-packages/autosklearn/smbo.py:671: RuntimeWarning: invalid value encountered in true_divide\n",
      "  (1. - dataset_minimum))\n",
      "/Users/evariste/anaconda3/lib/python3.6/site-packages/autosklearn/smbo.py:672: RuntimeWarning: invalid value encountered in greater\n",
      "  Y_cfg[:, 0][Y_cfg[:, 0] > 2] = 2\n",
      "/Users/evariste/anaconda3/lib/python3.6/site-packages/scipy/stats/_distn_infrastructure.py:879: RuntimeWarning: invalid value encountered in greater\n",
      "  return (self.a < x) & (x < self.b)\n",
      "/Users/evariste/anaconda3/lib/python3.6/site-packages/scipy/stats/_distn_infrastructure.py:879: RuntimeWarning: invalid value encountered in less\n",
      "  return (self.a < x) & (x < self.b)\n",
      "/Users/evariste/anaconda3/lib/python3.6/site-packages/scipy/stats/_distn_infrastructure.py:1738: RuntimeWarning: invalid value encountered in greater_equal\n",
      "  cond2 = (x >= self.b) & cond0\n",
      "/Users/evariste/anaconda3/lib/python3.6/site-packages/scipy/stats/_distn_infrastructure.py:876: RuntimeWarning: invalid value encountered in greater_equal\n",
      "  return (self.a <= x) & (x <= self.b)\n",
      "/Users/evariste/anaconda3/lib/python3.6/site-packages/scipy/stats/_distn_infrastructure.py:876: RuntimeWarning: invalid value encountered in less_equal\n",
      "  return (self.a <= x) & (x <= self.b)\n",
      "/Users/evariste/anaconda3/lib/python3.6/site-packages/smac/optimizer/acquisition.py:165: RuntimeWarning: invalid value encountered in less\n",
      "  if (f < 0).any():\n"
     ]
    }
   ],
   "source": [
    "M.fit(X_train, Y_train)"
   ]
  },
  {
   "cell_type": "code",
   "execution_count": 423,
   "metadata": {},
   "outputs": [],
   "source": [
    "Y_hat_test = M.predict(X_test)"
   ]
  },
  {
   "cell_type": "code",
   "execution_count": 424,
   "metadata": {},
   "outputs": [
    {
     "data": {
      "text/plain": [
       "(10000, 120)"
      ]
     },
     "execution_count": 424,
     "metadata": {},
     "output_type": "execute_result"
    }
   ],
   "source": [
    "Y_hat_test.shape"
   ]
  },
  {
   "cell_type": "code",
   "execution_count": 427,
   "metadata": {},
   "outputs": [
    {
     "data": {
      "text/plain": [
       "0.0"
      ]
     },
     "execution_count": 427,
     "metadata": {},
     "output_type": "execute_result"
    }
   ],
   "source": [
    "np.sum(Y_hat_test)"
   ]
  },
  {
   "cell_type": "code",
   "execution_count": 380,
   "metadata": {},
   "outputs": [
    {
     "name": "stderr",
     "output_type": "stream",
     "text": [
      "/Users/evariste/anaconda3/lib/python3.6/site-packages/sklearn/ensemble/weight_boosting.py:29: DeprecationWarning: numpy.core.umath_tests is an internal NumPy module and should not be imported. It will be removed in a future NumPy release.\n",
      "  from numpy.core.umath_tests import inner1d\n"
     ]
    }
   ],
   "source": [
    "from autosklearn.classification import AutoSklearnClassifier as Model"
   ]
  },
  {
   "cell_type": "code",
   "execution_count": null,
   "metadata": {
    "collapsed": true
   },
   "outputs": [],
   "source": [
    "Model()"
   ]
  }
 ],
 "metadata": {
  "kernelspec": {
   "display_name": "Python 3",
   "language": "python",
   "name": "python3"
  },
  "language_info": {
   "codemirror_mode": {
    "name": "ipython",
    "version": 3
   },
   "file_extension": ".py",
   "mimetype": "text/x-python",
   "name": "python",
   "nbconvert_exporter": "python",
   "pygments_lexer": "ipython3",
   "version": "3.6.3"
  }
 },
 "nbformat": 4,
 "nbformat_minor": 2
}
