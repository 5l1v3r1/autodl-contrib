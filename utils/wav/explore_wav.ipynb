{
 "cells": [
  {
   "cell_type": "code",
   "execution_count": 1,
   "metadata": {},
   "outputs": [],
   "source": [
    "import wave\n",
    "import os\n",
    "from scipy.io import wavfile\n",
    "import numpy as np"
   ]
  },
  {
   "cell_type": "markdown",
   "metadata": {},
   "source": [
    "# Conversion between types\n",
    "This part and the following require [SoX package](http://sox.sourceforge.net/) (Sound eXchange). For Max OS, run\n",
    "```\n",
    "brew install sox\n",
    "```"
   ]
  },
  {
   "cell_type": "code",
   "execution_count": 2,
   "metadata": {
    "collapsed": true
   },
   "outputs": [],
   "source": [
    "def wav_to_data(wav_filepath):\n",
    "  sample_rate, data = wavfile.read(wav_filepath)\n",
    "  return data"
   ]
  },
  {
   "cell_type": "code",
   "execution_count": 3,
   "metadata": {
    "collapsed": true
   },
   "outputs": [],
   "source": [
    "def sphere_to_data(sphere_filepath):\n",
    "  try:\n",
    "    tmp_filepath = '/tmp/haha.wav'\n",
    "    os.system('sox -t sph ' + sphere_filepath + ' ' + tmp_filepath)\n",
    "    res = wav_to_data(tmp_filepath)\n",
    "    return res\n",
    "  except:\n",
    "    raise ValueError(\"Converting SPHERE files requires SoX installed. For Max OS, run 'brew install sox'.\")\n",
    "    \n",
    "def sphere_to_bytes(sphere_filepath):\n",
    "  with open(sphere_filepath, 'rb') as f:\n",
    "    f.read(1024)\n",
    "    data_in_bytes = f.read()\n",
    "  return data_in_bytes"
   ]
  },
  {
   "cell_type": "markdown",
   "metadata": {},
   "source": [
    "# Play audio files"
   ]
  },
  {
   "cell_type": "code",
   "execution_count": 4,
   "metadata": {
    "collapsed": true
   },
   "outputs": [],
   "source": [
    "PLAY_CMD = 'play' # For Mac OS with SoX installed\n",
    "\n",
    "def play_audio_from_file(audio_filename, cmd=PLAY_CMD):\n",
    "  os.system(cmd + ' ' + audio_filename)"
   ]
  },
  {
   "cell_type": "code",
   "execution_count": 5,
   "metadata": {
    "collapsed": true
   },
   "outputs": [],
   "source": [
    "def play_audio_from_bytes(data_in_bytes, nchannels=1, sampwidth=2, \n",
    "                          framerate=16000, comptype='NONE', \n",
    "                          compname='not compressed'):\n",
    "  \n",
    "  if not isinstance(data_in_bytes, bytes):\n",
    "    data_in_bytes = bytes(data_in_bytes)\n",
    "    \n",
    "  # Create a tmp file\n",
    "  tmp_filepath = '/tmp/haha.wav'\n",
    "  \n",
    "  with wave.open(tmp_filepath, 'w') as f:\n",
    "    \n",
    "    # Set audio file parameters\n",
    "    f.setcomptype(comptype, compname)\n",
    "    f.setframerate(framerate)\n",
    "    f.setnchannels(nchannels)\n",
    "    f.setsampwidth(sampwidth)\n",
    "    f.setnframes(len(data_in_bytes)//sampwidth)\n",
    "    \n",
    "    # Write data\n",
    "    f.writeframes(data_in_bytes)\n",
    "    \n",
    "  play_audio_from_file(tmp_filepath)\n",
    "  \n",
    "  # Delete the tmp file\n",
    "  os.system('rm ' + tmp_filepath)"
   ]
  },
  {
   "cell_type": "code",
   "execution_count": 6,
   "metadata": {
    "collapsed": true
   },
   "outputs": [],
   "source": [
    "filename1 = 'example1.sph' # NIST SPHERE file\n",
    "filename2 = 'example2.sph' # NIST SPHERE file"
   ]
  },
  {
   "cell_type": "code",
   "execution_count": 7,
   "metadata": {},
   "outputs": [
    {
     "data": {
      "text/plain": [
       "array([ 1, -1,  2, ..., -1, -5, -8], dtype=int16)"
      ]
     },
     "execution_count": 7,
     "metadata": {},
     "output_type": "execute_result"
    }
   ],
   "source": [
    "data1 = sphere_to_data(filename1)\n",
    "data1"
   ]
  },
  {
   "cell_type": "code",
   "execution_count": 8,
   "metadata": {},
   "outputs": [
    {
     "data": {
      "text/plain": [
       "array([-1,  0,  1, ...,  3,  1, -2], dtype=int16)"
      ]
     },
     "execution_count": 8,
     "metadata": {},
     "output_type": "execute_result"
    }
   ],
   "source": [
    "data2 = sphere_to_data(filename2)\n",
    "data2"
   ]
  },
  {
   "cell_type": "code",
   "execution_count": 9,
   "metadata": {},
   "outputs": [],
   "source": [
    "# Play audio\n",
    "play_audio_from_bytes(data1)"
   ]
  },
  {
   "cell_type": "code",
   "execution_count": 10,
   "metadata": {
    "collapsed": true
   },
   "outputs": [],
   "source": [
    "play_audio_from_bytes(data2)"
   ]
  },
  {
   "cell_type": "code",
   "execution_count": 11,
   "metadata": {
    "collapsed": true
   },
   "outputs": [],
   "source": [
    "# Combine 2 audio files\n",
    "play_audio_from_bytes(data1 + np.pad(data2, (0, data1.size - data2.size), mode='constant'))"
   ]
  },
  {
   "cell_type": "code",
   "execution_count": 12,
   "metadata": {},
   "outputs": [],
   "source": [
    "# Play an interval\n",
    "play_audio_from_bytes(data1[10000:20000])"
   ]
  },
  {
   "cell_type": "markdown",
   "metadata": {},
   "source": [
    "# Convert WAV to AutoDLDataset (TFRecord)"
   ]
  },
  {
   "cell_type": "code",
   "execution_count": 13,
   "metadata": {
    "collapsed": true
   },
   "outputs": [],
   "source": [
    "import data_pb2"
   ]
  },
  {
   "cell_type": "code",
   "execution_count": 15,
   "metadata": {},
   "outputs": [],
   "source": [
    "haha = data_pb2.DenseValue(value=[0.9])"
   ]
  },
  {
   "cell_type": "code",
   "execution_count": 17,
   "metadata": {},
   "outputs": [
    {
     "data": {
      "text/plain": [
       "array([ 1, -1,  2, ..., -1, -5, -8], dtype=int16)"
      ]
     },
     "execution_count": 17,
     "metadata": {},
     "output_type": "execute_result"
    }
   ],
   "source": [
    "data1"
   ]
  }
 ],
 "metadata": {
  "kernelspec": {
   "display_name": "Python 3",
   "language": "python",
   "name": "python3"
  },
  "language_info": {
   "codemirror_mode": {
    "name": "ipython",
    "version": 3
   },
   "file_extension": ".py",
   "mimetype": "text/x-python",
   "name": "python",
   "nbconvert_exporter": "python",
   "pygments_lexer": "ipython3",
   "version": "3.6.3"
  }
 },
 "nbformat": 4,
 "nbformat_minor": 2
}
