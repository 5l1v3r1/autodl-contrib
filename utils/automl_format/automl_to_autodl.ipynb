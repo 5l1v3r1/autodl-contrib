{
 "cells": [
  {
   "cell_type": "code",
   "execution_count": 10,
   "metadata": {},
   "outputs": [],
   "source": [
    "import numpy as np\n",
    "import pandas as pd\n",
    "import os\n",
    "import sys"
   ]
  },
  {
   "cell_type": "code",
   "execution_count": 8,
   "metadata": {},
   "outputs": [
    {
     "name": "stdout",
     "output_type": "stream",
     "text": [
      "\u001b[1m\u001b[34mada\u001b[m\u001b[m/        \u001b[1m\u001b[34mcadata\u001b[m\u001b[m/     \u001b[1m\u001b[34mdionis\u001b[m\u001b[m/     \u001b[1m\u001b[34mgrigoris\u001b[m\u001b[m/   \u001b[1m\u001b[34mnewsgroups\u001b[m\u001b[m/ \u001b[1m\u001b[34mtania\u001b[m\u001b[m/\r\n",
      "\u001b[1m\u001b[34madult\u001b[m\u001b[m/      \u001b[1m\u001b[34mcarlo\u001b[m\u001b[m/      \u001b[1m\u001b[34mdorothea\u001b[m\u001b[m/   \u001b[1m\u001b[34mhelena\u001b[m\u001b[m/     \u001b[1m\u001b[34mnova\u001b[m\u001b[m/       \u001b[1m\u001b[34mvolkert\u001b[m\u001b[m/\r\n",
      "\u001b[1m\u001b[34malbert\u001b[m\u001b[m/     \u001b[1m\u001b[34mchristine\u001b[m\u001b[m/  \u001b[1m\u001b[34mevita\u001b[m\u001b[m/      \u001b[1m\u001b[34mjannis\u001b[m\u001b[m/     \u001b[1m\u001b[34mpablo\u001b[m\u001b[m/      \u001b[1m\u001b[34mwaldo\u001b[m\u001b[m/\r\n",
      "\u001b[1m\u001b[34malexis\u001b[m\u001b[m/     \u001b[1m\u001b[34mdexter\u001b[m\u001b[m/     \u001b[1m\u001b[34mfabert\u001b[m\u001b[m/     \u001b[1m\u001b[34mjasmine\u001b[m\u001b[m/    \u001b[1m\u001b[34mphilippine\u001b[m\u001b[m/ \u001b[1m\u001b[34mwallis\u001b[m\u001b[m/\r\n",
      "\u001b[1m\u001b[34marcene\u001b[m\u001b[m/     \u001b[1m\u001b[34mdigits\u001b[m\u001b[m/     \u001b[1m\u001b[34mflora\u001b[m\u001b[m/      \u001b[1m\u001b[34mmadeline\u001b[m\u001b[m/   \u001b[1m\u001b[34mrobert\u001b[m\u001b[m/     \u001b[1m\u001b[34myolanda\u001b[m\u001b[m/\r\n",
      "\u001b[1m\u001b[34marturo\u001b[m\u001b[m/     \u001b[1m\u001b[34mdilbert\u001b[m\u001b[m/    \u001b[1m\u001b[34mgina\u001b[m\u001b[m/       \u001b[1m\u001b[34mmarco\u001b[m\u001b[m/      \u001b[1m\u001b[34msylvine\u001b[m\u001b[m/\r\n"
     ]
    }
   ],
   "source": [
    "%ls ../../datasets/automl_format/"
   ]
  },
  {
   "cell_type": "code",
   "execution_count": 9,
   "metadata": {
    "collapsed": true
   },
   "outputs": [],
   "source": [
    "input_dir = '../../datasets/automl_format/'"
   ]
  },
  {
   "cell_type": "code",
   "execution_count": 4,
   "metadata": {
    "collapsed": true
   },
   "outputs": [],
   "source": [
    "basename = 'robert'"
   ]
  },
  {
   "cell_type": "code",
   "execution_count": 11,
   "metadata": {},
   "outputs": [],
   "source": [
    "dataset_dir = os.path.join(input_dir, basename)"
   ]
  },
  {
   "cell_type": "code",
   "execution_count": 12,
   "metadata": {},
   "outputs": [
    {
     "data": {
      "text/plain": [
       "['robert_valid_sample.name',\n",
       " 'robert_train_sample.name',\n",
       " 'robert_test_sample.name',\n",
       " 'robert_feat.name',\n",
       " 'robert_test.data',\n",
       " 'robert_label.name',\n",
       " 'robert_label.idx',\n",
       " 'robert_train.solution',\n",
       " 'robert_private.info',\n",
       " 'robert_train_sample.idx',\n",
       " 'robert_train.data',\n",
       " 'robert_public.info',\n",
       " 'robert_feat.type',\n",
       " 'robert_valid.solution',\n",
       " 'robert_valid.data',\n",
       " 'robert_test_sample.idx',\n",
       " 'robert_test.solution',\n",
       " 'robert_feat.idx',\n",
       " 'robert_valid_sample.idx']"
      ]
     },
     "execution_count": 12,
     "metadata": {},
     "output_type": "execute_result"
    }
   ],
   "source": [
    "os.listdir(dataset_dir)"
   ]
  }
 ],
 "metadata": {
  "kernelspec": {
   "display_name": "Python 3",
   "language": "python",
   "name": "python3"
  },
  "language_info": {
   "codemirror_mode": {
    "name": "ipython",
    "version": 3
   },
   "file_extension": ".py",
   "mimetype": "text/x-python",
   "name": "python",
   "nbconvert_exporter": "python",
   "pygments_lexer": "ipython3",
   "version": "3.6.3"
  }
 },
 "nbformat": 4,
 "nbformat_minor": 2
}
